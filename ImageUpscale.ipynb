{
 "cells": [
  {
   "cell_type": "code",
   "id": "initial_id",
   "metadata": {
    "collapsed": true,
    "ExecuteTime": {
     "end_time": "2025-03-01T14:14:44.254757Z",
     "start_time": "2025-03-01T14:14:44.252289Z"
    }
   },
   "source": [
    "import cv2\n",
    "import numpy as np\n",
    "import matplotlib.pyplot as plt\n",
    "\n",
    "# Load RGB satellite images\n",
    "img_R = cv2.imread('20230215-SE2B-CGG-GBR-MS3-L3-NRG-preview.jpg', cv2.IMREAD_GRAYSCALE)\n",
    "img_G = cv2.imread('20230215-SE2B-CGG-GBR-MS3-L3-RGB-preview.jpg', cv2.IMREAD_GRAYSCALE)\n",
    "img_B = cv2.imread('20230215_SE2B_CGG_GBR_MS4_L3_BGRN.tif', cv2.IMREAD_GRAYSCALE)\n",
    "# 20230215-SE2B-CGG-GBR-MS3-L3-NRG-preview.jpg\n",
    "# 20230215-SE2B-CGG-GBR-MS3-L3-RGB-preview.jpg\n",
    "# 20230215_SE2B_CGG_GBR_MS4_L3_BGRN.tif\n",
    "# DSM_TQ0075_P_12757_20230109_20230315.tfw\n",
    "# DSM_TQ0075_P_12757_20230109_20230315.tif\n",
    "\n",
    "# Combine the channels into an RGB image\n",
    "satellite_image = cv2.merge([img_R, img_G, img_B])\n",
    "\n",
    "# Load the high-resolution LiDAR image\n",
    "lidar_image = cv2.imread('data/high_res_lidar_image/lidar_image.tif', cv2.IMREAD_GRAYSCALE)\n",
    "\n",
    "# Show the images for verification\n",
    "plt.figure(figsize=(10, 5))\n",
    "plt.subplot(1, 2, 1)\n",
    "plt.title('Satellite Image')\n",
    "plt.imshow(satellite_image)\n",
    "plt.subplot(1, 2, 2)\n",
    "plt.title('LiDAR Image')\n",
    "plt.imshow(lidar_image)\n",
    "plt.show()"
   ],
   "outputs": [],
   "execution_count": 4
  },
  {
   "metadata": {},
   "cell_type": "code",
   "outputs": [],
   "execution_count": null,
   "source": "",
   "id": "4db8e537456aad17"
  }
 ],
 "metadata": {
  "kernelspec": {
   "display_name": "Python 3",
   "language": "python",
   "name": "python3"
  },
  "language_info": {
   "codemirror_mode": {
    "name": "ipython",
    "version": 2
   },
   "file_extension": ".py",
   "mimetype": "text/x-python",
   "name": "python",
   "nbconvert_exporter": "python",
   "pygments_lexer": "ipython2",
   "version": "2.7.6"
  }
 },
 "nbformat": 4,
 "nbformat_minor": 5
}
